{
 "cells": [
  {
   "cell_type": "code",
   "execution_count": 1,
   "metadata": {},
   "outputs": [
    {
     "name": "stdout",
     "output_type": "stream",
     "text": [
      "{'Mohammed': '44', 'John': '50', 'Hamed': '35', 'Salim': '30'}\n"
     ]
    }
   ],
   "source": [
    "import re\n",
    "NameAge = '''\n",
    "Hamed is 35 and Salim is 30\n",
    "Mohammed is 44 and John is 50\n",
    "'''\n",
    "ages = re.findall(r'\\d{1,3}', NameAge)\n",
    "names = re.findall(r'[A-Z][a-z]*', NameAge)\n",
    "ageDict = {}\n",
    "x = 0\n",
    "for eachname in names:\n",
    "    ageDict[eachname] = ages[x]\n",
    "    x+=1\n",
    "print (ageDict)"
   ]
  },
  {
   "cell_type": "code",
   "execution_count": null,
   "metadata": {},
   "outputs": [],
   "source": [
    "#find a word in a string\n",
    "import re\n",
    "if re.search(\"inform\", \"we need to inform him with the latest information\"):\n",
    "    print (\"there is inform\")"
   ]
  },
  {
   "cell_type": "code",
   "execution_count": null,
   "metadata": {},
   "outputs": [],
   "source": [
    "#find a list of matches\n",
    "allinform = re.findall(\"inform\", \"we need to inform him with the latest information\")\n",
    "for i in allinform:\n",
    "    print (i)"
   ]
  },
  {
   "cell_type": "code",
   "execution_count": null,
   "metadata": {},
   "outputs": [],
   "source": [
    "#get the starting and edning index of a particular string\n",
    "str = \"we need to inform him with the latest information\"\n",
    "for i in re.finditer(\"inform\", str):\n",
    "    loctup = i.span()\n",
    "    print(loctup)"
   ]
  },
  {
   "cell_type": "code",
   "execution_count": null,
   "metadata": {},
   "outputs": [],
   "source": [
    "#match words with a particular pattern\n",
    "str = \"Sat, hat, mat, pat\"\n",
    "allstr = re.findall(\"[shmp]at\", str)\n",
    "for i in allstr:\n",
    "    print(i)"
   ]
  },
  {
   "cell_type": "code",
   "execution_count": null,
   "metadata": {},
   "outputs": [],
   "source": [
    "#match series of range of characters\n",
    "str1 = \"Sat, hat, mat, pat\"\n",
    "someStre = re.findall(\"[h-m]at\", str1)\n",
    "for i in someStre:\n",
    "    print (i)"
   ]
  },
  {
   "cell_type": "code",
   "execution_count": null,
   "metadata": {},
   "outputs": [],
   "source": [
    "#replace a string\n",
    "food = \"cake pen orange bread\"\n",
    "regex = re.compile(\"[p]en\")\n",
    "food = regex.sub(\"eggs\", food)\n",
    "print (food)"
   ]
  },
  {
   "cell_type": "code",
   "execution_count": null,
   "metadata": {},
   "outputs": [],
   "source": [
    "# slash problem\n",
    "randstr = \"here is \\\\hamed\"\n",
    "print(randstr)"
   ]
  },
  {
   "cell_type": "code",
   "execution_count": null,
   "metadata": {},
   "outputs": [],
   "source": [
    "#slash problem solved\n",
    "#randstr = \"here is \\\\hamed\"\n",
    "#print(re.search(r\"\\\\hamed\", randstr))"
   ]
  },
  {
   "cell_type": "code",
   "execution_count": null,
   "metadata": {},
   "outputs": [],
   "source": [
    "find_man = re.findall (\"من\", \"أكدت الشبكة السورية لحقوق الإنسان أن 411 مدنيا قُتلوا، وشُرد 200 ألف آخرون من قبل قوات النظام السوري وروسيا وإيران في منطقة البوكمال بريف دير الزور الشرقي منذ سبتمبر/أيلول الماضي، وأن هذه القوات انتهكت القانون الدولي الإنساني\")\n",
    "for i in find_man:\n",
    "    print (i)"
   ]
  },
  {
   "cell_type": "code",
   "execution_count": null,
   "metadata": {},
   "outputs": [],
   "source": []
  },
  {
   "cell_type": "code",
   "execution_count": null,
   "metadata": {},
   "outputs": [],
   "source": []
  },
  {
   "cell_type": "code",
   "execution_count": null,
   "metadata": {},
   "outputs": [],
   "source": []
  }
 ],
 "metadata": {
  "kernelspec": {
   "display_name": "Python 2",
   "language": "python",
   "name": "python2"
  },
  "language_info": {
   "codemirror_mode": {
    "name": "ipython",
    "version": 2
   },
   "file_extension": ".py",
   "mimetype": "text/x-python",
   "name": "python",
   "nbconvert_exporter": "python",
   "pygments_lexer": "ipython2",
   "version": "2.7.14"
  }
 },
 "nbformat": 4,
 "nbformat_minor": 2
}
