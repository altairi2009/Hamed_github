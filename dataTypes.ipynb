{
 "cells": [
  {
   "cell_type": "code",
   "execution_count": 1,
   "metadata": {},
   "outputs": [
    {
     "name": "stdout",
     "output_type": "stream",
     "text": [
      "True\n"
     ]
    }
   ],
   "source": [
    "# Boolean\n",
    "number = [1, 2, 3, 4, 5]\n",
    "boolean = 3 in number\n",
    "print(boolean)"
   ]
  },
  {
   "cell_type": "code",
   "execution_count": 2,
   "metadata": {},
   "outputs": [
    {
     "name": "stdout",
     "output_type": "stream",
     "text": [
      "('num1 is', 125)\n",
      "('num2 is', 10)\n",
      "('num3 is', 10)\n"
     ]
    }
   ],
   "source": [
    "# Numbers\n",
    "num1 = 5 ** 3\n",
    "num2 = 32 // 3\n",
    "num3 = 32 / 3\n",
    "print('num1 is', num1)\n",
    "print('num2 is', num2)\n",
    "print('num3 is', num3)"
   ]
  },
  {
   "cell_type": "code",
   "execution_count": 3,
   "metadata": {},
   "outputs": [
    {
     "name": "stdout",
     "output_type": "stream",
     "text": [
      "('str3 is', \"Welcome to Edureka's Python Programming Blog\")\n",
      "Welcome to\n",
      " Blog\n",
      "Welcome to Edureka's Python Programming\n"
     ]
    }
   ],
   "source": [
    "# Strings\n",
    "str1 = \"Welcome\"\n",
    "str2 = \" to Edureka's Python Programming Blog\"\n",
    "str3 = str1 + str2\n",
    "print('str3 is', str3)\n",
    "print(str3[0:10])\n",
    "print(str3[-5:])\n",
    "print(str3[:-5])"
   ]
  },
  {
   "cell_type": "code",
   "execution_count": 4,
   "metadata": {},
   "outputs": [
    {
     "name": "stdout",
     "output_type": "stream",
     "text": [
      "5\n",
      "['India', 'Australia', 'United States', 'Canada', 'Singapore']\n",
      "['India', 'Australia', 'United States', 'Canada', 'Singapore', 'Brazil']\n",
      "['India', 'Australia', 'United Kingdom', 'United States', 'Canada', 'Singapore', 'Brazil']\n"
     ]
    }
   ],
   "source": [
    "# Lists\n",
    "countries = ['India', 'Australia', 'United States', 'Canada', 'Singapore']\n",
    "print(len(countries))\n",
    "print(countries)\n",
    "countries.append('Brazil')\n",
    "print(countries)\n",
    "countries.insert(2, 'United Kingdom')\n",
    "print(countries)"
   ]
  },
  {
   "cell_type": "code",
   "execution_count": 5,
   "metadata": {},
   "outputs": [
    {
     "name": "stdout",
     "output_type": "stream",
     "text": [
      "['Cricket', 'Basketball', 'Football', 'Baseball']\n",
      "('Cricket', 'Basketball', 'Football')\n"
     ]
    }
   ],
   "source": [
    "# Tuples\n",
    "sports_tuple = ('Cricket', 'Basketball', 'Football')\n",
    "sports_list = list(sports_tuple)\n",
    "sports_list.append('Baseball')\n",
    "print(sports_list)\n",
    "print(sports_tuple)"
   ]
  },
  {
   "cell_type": "code",
   "execution_count": 6,
   "metadata": {},
   "outputs": [
    {
     "name": "stdout",
     "output_type": "stream",
     "text": [
      "('Indian Government has ', {'Legislature': 'Parliament', 'Executive': 'PM & Cabinet', 'Judiciary': 'Supreme Court'})\n",
      "('USA Government has ', {'Legislature': 'Congress', 'Executive': 'President & Cabinet', 'Judiciary': 'Supreme Court'})\n"
     ]
    }
   ],
   "source": [
    "# Dictionary\n",
    "# Indian Government\n",
    "Government = {'Legislature': 'Parliament', 'Executive': 'PM & Cabinet', 'Judiciary': 'Supreme Court'}\n",
    "print('Indian Government has ', Government)\n",
    "# Modifying for USA\n",
    "Government['Legislature'] = 'Congress'\n",
    "Government['Executive'] = 'President & Cabinet'\n",
    "print('USA Government has ', Government)"
   ]
  },
  {
   "cell_type": "code",
   "execution_count": 12,
   "metadata": {},
   "outputs": [
    {
     "ename": "TypeError",
     "evalue": "can only concatenate list (not \"str\") to list",
     "output_type": "error",
     "traceback": [
      "\u001b[0;31m\u001b[0m",
      "\u001b[0;31mTypeError\u001b[0mTraceback (most recent call last)",
      "\u001b[0;32m<ipython-input-12-2abb3caf3375>\u001b[0m in \u001b[0;36m<module>\u001b[0;34m()\u001b[0m\n\u001b[0;32m----> 1\u001b[0;31m \u001b[0mnew\u001b[0m \u001b[0;34m=\u001b[0m \u001b[0mcountries\u001b[0m \u001b[0;34m+\u001b[0m \u001b[0;34m(\u001b[0m\u001b[0;34m\"cities\"\u001b[0m\u001b[0;34m)\u001b[0m\u001b[0;34m\u001b[0m\u001b[0m\n\u001b[0m\u001b[1;32m      2\u001b[0m \u001b[0;32mprint\u001b[0m \u001b[0;34m(\u001b[0m\u001b[0mnew\u001b[0m\u001b[0;34m)\u001b[0m\u001b[0;34m\u001b[0m\u001b[0m\n",
      "\u001b[0;31mTypeError\u001b[0m: can only concatenate list (not \"str\") to list"
     ]
    }
   ],
   "source": []
  },
  {
   "cell_type": "code",
   "execution_count": null,
   "metadata": {},
   "outputs": [],
   "source": []
  }
 ],
 "metadata": {
  "kernelspec": {
   "display_name": "Python 2",
   "language": "python",
   "name": "python2"
  },
  "language_info": {
   "codemirror_mode": {
    "name": "ipython",
    "version": 2
   },
   "file_extension": ".py",
   "mimetype": "text/x-python",
   "name": "python",
   "nbconvert_exporter": "python",
   "pygments_lexer": "ipython2",
   "version": "2.7.14"
  }
 },
 "nbformat": 4,
 "nbformat_minor": 2
}
